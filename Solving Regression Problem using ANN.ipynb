{
 "cells": [
  {
   "cell_type": "code",
   "execution_count": 9,
   "id": "655cf975",
   "metadata": {},
   "outputs": [],
   "source": [
    "import pandas as pd\n",
    "import seaborn as sns\n",
    "import numpy as np\n",
    "import tensorflow as tf\n",
    "import matplotlib.pyplot as plt\n",
    "from sklearn.datasets import fetch_california_housing\n",
    "from sklearn.model_selection import train_test_split\n",
    "from sklearn.preprocessing import StandardScaler"
   ]
  },
  {
   "cell_type": "code",
   "execution_count": 2,
   "id": "8bd2828b",
   "metadata": {},
   "outputs": [],
   "source": [
    "house=fetch_california_housing()"
   ]
  },
  {
   "cell_type": "code",
   "execution_count": 8,
   "id": "ab28be37",
   "metadata": {},
   "outputs": [
    {
     "data": {
      "text/plain": [
       "dict_keys(['data', 'target', 'frame', 'target_names', 'feature_names', 'DESCR'])"
      ]
     },
     "execution_count": 8,
     "metadata": {},
     "output_type": "execute_result"
    }
   ],
   "source": [
    "house.keys()"
   ]
  },
  {
   "cell_type": "code",
   "execution_count": 6,
   "id": "462272a0",
   "metadata": {},
   "outputs": [
    {
     "data": {
      "text/plain": [
       "array([[   8.3252    ,   41.        ,    6.98412698, ...,    2.55555556,\n",
       "          37.88      , -122.23      ],\n",
       "       [   8.3014    ,   21.        ,    6.23813708, ...,    2.10984183,\n",
       "          37.86      , -122.22      ],\n",
       "       [   7.2574    ,   52.        ,    8.28813559, ...,    2.80225989,\n",
       "          37.85      , -122.24      ],\n",
       "       ...,\n",
       "       [   1.7       ,   17.        ,    5.20554273, ...,    2.3256351 ,\n",
       "          39.43      , -121.22      ],\n",
       "       [   1.8672    ,   18.        ,    5.32951289, ...,    2.12320917,\n",
       "          39.43      , -121.32      ],\n",
       "       [   2.3886    ,   16.        ,    5.25471698, ...,    2.61698113,\n",
       "          39.37      , -121.24      ]])"
      ]
     },
     "execution_count": 6,
     "metadata": {},
     "output_type": "execute_result"
    }
   ],
   "source": [
    "house['data']"
   ]
  },
  {
   "cell_type": "code",
   "execution_count": 7,
   "id": "b2c68de7",
   "metadata": {},
   "outputs": [
    {
     "data": {
      "text/plain": [
       "array([4.526, 3.585, 3.521, ..., 0.923, 0.847, 0.894])"
      ]
     },
     "execution_count": 7,
     "metadata": {},
     "output_type": "execute_result"
    }
   ],
   "source": [
    "house['target']"
   ]
  },
  {
   "cell_type": "code",
   "execution_count": 14,
   "id": "0beb1bc0",
   "metadata": {},
   "outputs": [
    {
     "data": {
      "text/html": [
       "<div>\n",
       "<style scoped>\n",
       "    .dataframe tbody tr th:only-of-type {\n",
       "        vertical-align: middle;\n",
       "    }\n",
       "\n",
       "    .dataframe tbody tr th {\n",
       "        vertical-align: top;\n",
       "    }\n",
       "\n",
       "    .dataframe thead th {\n",
       "        text-align: right;\n",
       "    }\n",
       "</style>\n",
       "<table border=\"1\" class=\"dataframe\">\n",
       "  <thead>\n",
       "    <tr style=\"text-align: right;\">\n",
       "      <th></th>\n",
       "      <th>target</th>\n",
       "    </tr>\n",
       "  </thead>\n",
       "  <tbody>\n",
       "    <tr>\n",
       "      <th>0</th>\n",
       "      <td>4.526</td>\n",
       "    </tr>\n",
       "    <tr>\n",
       "      <th>1</th>\n",
       "      <td>3.585</td>\n",
       "    </tr>\n",
       "    <tr>\n",
       "      <th>2</th>\n",
       "      <td>3.521</td>\n",
       "    </tr>\n",
       "    <tr>\n",
       "      <th>3</th>\n",
       "      <td>3.413</td>\n",
       "    </tr>\n",
       "    <tr>\n",
       "      <th>4</th>\n",
       "      <td>3.422</td>\n",
       "    </tr>\n",
       "    <tr>\n",
       "      <th>...</th>\n",
       "      <td>...</td>\n",
       "    </tr>\n",
       "    <tr>\n",
       "      <th>20635</th>\n",
       "      <td>0.781</td>\n",
       "    </tr>\n",
       "    <tr>\n",
       "      <th>20636</th>\n",
       "      <td>0.771</td>\n",
       "    </tr>\n",
       "    <tr>\n",
       "      <th>20637</th>\n",
       "      <td>0.923</td>\n",
       "    </tr>\n",
       "    <tr>\n",
       "      <th>20638</th>\n",
       "      <td>0.847</td>\n",
       "    </tr>\n",
       "    <tr>\n",
       "      <th>20639</th>\n",
       "      <td>0.894</td>\n",
       "    </tr>\n",
       "  </tbody>\n",
       "</table>\n",
       "<p>20640 rows × 1 columns</p>\n",
       "</div>"
      ],
      "text/plain": [
       "       target\n",
       "0       4.526\n",
       "1       3.585\n",
       "2       3.521\n",
       "3       3.413\n",
       "4       3.422\n",
       "...       ...\n",
       "20635   0.781\n",
       "20636   0.771\n",
       "20637   0.923\n",
       "20638   0.847\n",
       "20639   0.894\n",
       "\n",
       "[20640 rows x 1 columns]"
      ]
     },
     "execution_count": 14,
     "metadata": {},
     "output_type": "execute_result"
    }
   ],
   "source": [
    "y=pd.DataFrame(house['target'],columns=['target'])\n",
    "y"
   ]
  },
  {
   "cell_type": "code",
   "execution_count": 16,
   "id": "2b997dac",
   "metadata": {},
   "outputs": [
    {
     "data": {
      "text/html": [
       "<div>\n",
       "<style scoped>\n",
       "    .dataframe tbody tr th:only-of-type {\n",
       "        vertical-align: middle;\n",
       "    }\n",
       "\n",
       "    .dataframe tbody tr th {\n",
       "        vertical-align: top;\n",
       "    }\n",
       "\n",
       "    .dataframe thead th {\n",
       "        text-align: right;\n",
       "    }\n",
       "</style>\n",
       "<table border=\"1\" class=\"dataframe\">\n",
       "  <thead>\n",
       "    <tr style=\"text-align: right;\">\n",
       "      <th></th>\n",
       "      <th>MedInc</th>\n",
       "      <th>HouseAge</th>\n",
       "      <th>AveRooms</th>\n",
       "      <th>AveBedrms</th>\n",
       "      <th>Population</th>\n",
       "      <th>AveOccup</th>\n",
       "      <th>Latitude</th>\n",
       "      <th>Longitude</th>\n",
       "    </tr>\n",
       "  </thead>\n",
       "  <tbody>\n",
       "    <tr>\n",
       "      <th>0</th>\n",
       "      <td>8.3252</td>\n",
       "      <td>41.0</td>\n",
       "      <td>6.984127</td>\n",
       "      <td>1.023810</td>\n",
       "      <td>322.0</td>\n",
       "      <td>2.555556</td>\n",
       "      <td>37.88</td>\n",
       "      <td>-122.23</td>\n",
       "    </tr>\n",
       "    <tr>\n",
       "      <th>1</th>\n",
       "      <td>8.3014</td>\n",
       "      <td>21.0</td>\n",
       "      <td>6.238137</td>\n",
       "      <td>0.971880</td>\n",
       "      <td>2401.0</td>\n",
       "      <td>2.109842</td>\n",
       "      <td>37.86</td>\n",
       "      <td>-122.22</td>\n",
       "    </tr>\n",
       "    <tr>\n",
       "      <th>2</th>\n",
       "      <td>7.2574</td>\n",
       "      <td>52.0</td>\n",
       "      <td>8.288136</td>\n",
       "      <td>1.073446</td>\n",
       "      <td>496.0</td>\n",
       "      <td>2.802260</td>\n",
       "      <td>37.85</td>\n",
       "      <td>-122.24</td>\n",
       "    </tr>\n",
       "    <tr>\n",
       "      <th>3</th>\n",
       "      <td>5.6431</td>\n",
       "      <td>52.0</td>\n",
       "      <td>5.817352</td>\n",
       "      <td>1.073059</td>\n",
       "      <td>558.0</td>\n",
       "      <td>2.547945</td>\n",
       "      <td>37.85</td>\n",
       "      <td>-122.25</td>\n",
       "    </tr>\n",
       "    <tr>\n",
       "      <th>4</th>\n",
       "      <td>3.8462</td>\n",
       "      <td>52.0</td>\n",
       "      <td>6.281853</td>\n",
       "      <td>1.081081</td>\n",
       "      <td>565.0</td>\n",
       "      <td>2.181467</td>\n",
       "      <td>37.85</td>\n",
       "      <td>-122.25</td>\n",
       "    </tr>\n",
       "    <tr>\n",
       "      <th>...</th>\n",
       "      <td>...</td>\n",
       "      <td>...</td>\n",
       "      <td>...</td>\n",
       "      <td>...</td>\n",
       "      <td>...</td>\n",
       "      <td>...</td>\n",
       "      <td>...</td>\n",
       "      <td>...</td>\n",
       "    </tr>\n",
       "    <tr>\n",
       "      <th>20635</th>\n",
       "      <td>1.5603</td>\n",
       "      <td>25.0</td>\n",
       "      <td>5.045455</td>\n",
       "      <td>1.133333</td>\n",
       "      <td>845.0</td>\n",
       "      <td>2.560606</td>\n",
       "      <td>39.48</td>\n",
       "      <td>-121.09</td>\n",
       "    </tr>\n",
       "    <tr>\n",
       "      <th>20636</th>\n",
       "      <td>2.5568</td>\n",
       "      <td>18.0</td>\n",
       "      <td>6.114035</td>\n",
       "      <td>1.315789</td>\n",
       "      <td>356.0</td>\n",
       "      <td>3.122807</td>\n",
       "      <td>39.49</td>\n",
       "      <td>-121.21</td>\n",
       "    </tr>\n",
       "    <tr>\n",
       "      <th>20637</th>\n",
       "      <td>1.7000</td>\n",
       "      <td>17.0</td>\n",
       "      <td>5.205543</td>\n",
       "      <td>1.120092</td>\n",
       "      <td>1007.0</td>\n",
       "      <td>2.325635</td>\n",
       "      <td>39.43</td>\n",
       "      <td>-121.22</td>\n",
       "    </tr>\n",
       "    <tr>\n",
       "      <th>20638</th>\n",
       "      <td>1.8672</td>\n",
       "      <td>18.0</td>\n",
       "      <td>5.329513</td>\n",
       "      <td>1.171920</td>\n",
       "      <td>741.0</td>\n",
       "      <td>2.123209</td>\n",
       "      <td>39.43</td>\n",
       "      <td>-121.32</td>\n",
       "    </tr>\n",
       "    <tr>\n",
       "      <th>20639</th>\n",
       "      <td>2.3886</td>\n",
       "      <td>16.0</td>\n",
       "      <td>5.254717</td>\n",
       "      <td>1.162264</td>\n",
       "      <td>1387.0</td>\n",
       "      <td>2.616981</td>\n",
       "      <td>39.37</td>\n",
       "      <td>-121.24</td>\n",
       "    </tr>\n",
       "  </tbody>\n",
       "</table>\n",
       "<p>20640 rows × 8 columns</p>\n",
       "</div>"
      ],
      "text/plain": [
       "       MedInc  HouseAge  AveRooms  AveBedrms  Population  AveOccup  Latitude  \\\n",
       "0      8.3252      41.0  6.984127   1.023810       322.0  2.555556     37.88   \n",
       "1      8.3014      21.0  6.238137   0.971880      2401.0  2.109842     37.86   \n",
       "2      7.2574      52.0  8.288136   1.073446       496.0  2.802260     37.85   \n",
       "3      5.6431      52.0  5.817352   1.073059       558.0  2.547945     37.85   \n",
       "4      3.8462      52.0  6.281853   1.081081       565.0  2.181467     37.85   \n",
       "...       ...       ...       ...        ...         ...       ...       ...   \n",
       "20635  1.5603      25.0  5.045455   1.133333       845.0  2.560606     39.48   \n",
       "20636  2.5568      18.0  6.114035   1.315789       356.0  3.122807     39.49   \n",
       "20637  1.7000      17.0  5.205543   1.120092      1007.0  2.325635     39.43   \n",
       "20638  1.8672      18.0  5.329513   1.171920       741.0  2.123209     39.43   \n",
       "20639  2.3886      16.0  5.254717   1.162264      1387.0  2.616981     39.37   \n",
       "\n",
       "       Longitude  \n",
       "0        -122.23  \n",
       "1        -122.22  \n",
       "2        -122.24  \n",
       "3        -122.25  \n",
       "4        -122.25  \n",
       "...          ...  \n",
       "20635    -121.09  \n",
       "20636    -121.21  \n",
       "20637    -121.22  \n",
       "20638    -121.32  \n",
       "20639    -121.24  \n",
       "\n",
       "[20640 rows x 8 columns]"
      ]
     },
     "execution_count": 16,
     "metadata": {},
     "output_type": "execute_result"
    }
   ],
   "source": [
    "x=pd.DataFrame(house['data'],columns=house.feature_names)\n",
    "x"
   ]
  },
  {
   "cell_type": "code",
   "execution_count": 17,
   "id": "08b29978",
   "metadata": {},
   "outputs": [
    {
     "data": {
      "text/plain": [
       "(20640, 8)"
      ]
     },
     "execution_count": 17,
     "metadata": {},
     "output_type": "execute_result"
    }
   ],
   "source": [
    "x.shape"
   ]
  },
  {
   "cell_type": "code",
   "execution_count": 18,
   "id": "9cdd8742",
   "metadata": {},
   "outputs": [
    {
     "data": {
      "text/plain": [
       "(20640, 1)"
      ]
     },
     "execution_count": 18,
     "metadata": {},
     "output_type": "execute_result"
    }
   ],
   "source": [
    "y.shape"
   ]
  },
  {
   "cell_type": "code",
   "execution_count": 19,
   "id": "0888fa97",
   "metadata": {},
   "outputs": [],
   "source": [
    "x_train_full,x_test,y_train_full,y_test=train_test_split(x,y,random_state=42)\n",
    "x_train,x_valid,y_train,y_valid=train_test_split(x_train_full,y_train_full,random_state=42)"
   ]
  },
  {
   "cell_type": "code",
   "execution_count": 21,
   "id": "a62a30ab",
   "metadata": {},
   "outputs": [
    {
     "name": "stdout",
     "output_type": "stream",
     "text": [
      "(15480, 8)\n",
      "(5160, 8)\n",
      "(11610, 8)\n",
      "(3870, 8)\n"
     ]
    }
   ],
   "source": [
    "print(x_train_full.shape)\n",
    "print(x_test.shape)\n",
    "print(x_train.shape)\n",
    "print(x_valid.shape)"
   ]
  },
  {
   "cell_type": "markdown",
   "id": "a17f6d07",
   "metadata": {},
   "source": [
    "### Architecture used"
   ]
  },
  {
   "cell_type": "code",
   "execution_count": 22,
   "id": "f6937a1a",
   "metadata": {},
   "outputs": [],
   "source": [
    "### input layer-->8\n",
    "### hidden layer1-->30\n",
    "### hidden layer2-->10\n",
    "### hidden layer3-->5\n",
    "###output layer-->1"
   ]
  },
  {
   "cell_type": "code",
   "execution_count": 23,
   "id": "154ac195",
   "metadata": {},
   "outputs": [],
   "source": [
    "LAYERS=[\n",
    "    tf.keras.layers.Dense(30,activation='relu',input_shape=x_train.shape[1:]),\n",
    "    tf.keras.layers.Dense(10,activation='relu'),\n",
    "    tf.keras.layers.Dense(5,activation='relu'),\n",
    "    tf.keras.layers.Dense(1)\n",
    "]"
   ]
  },
  {
   "cell_type": "code",
   "execution_count": 24,
   "id": "14f8e206",
   "metadata": {},
   "outputs": [],
   "source": [
    "model=tf.keras.models.Sequential(LAYERS)"
   ]
  },
  {
   "cell_type": "code",
   "execution_count": 25,
   "id": "b77a0015",
   "metadata": {},
   "outputs": [],
   "source": [
    "LOSS='mse'\n",
    "OPTIMIZER='sgd'"
   ]
  },
  {
   "cell_type": "code",
   "execution_count": 26,
   "id": "d6931e00",
   "metadata": {},
   "outputs": [
    {
     "name": "stdout",
     "output_type": "stream",
     "text": [
      "Model: \"sequential\"\n",
      "_________________________________________________________________\n",
      " Layer (type)                Output Shape              Param #   \n",
      "=================================================================\n",
      " dense (Dense)               (None, 30)                270       \n",
      "                                                                 \n",
      " dense_1 (Dense)             (None, 10)                310       \n",
      "                                                                 \n",
      " dense_2 (Dense)             (None, 5)                 55        \n",
      "                                                                 \n",
      " dense_3 (Dense)             (None, 1)                 6         \n",
      "                                                                 \n",
      "=================================================================\n",
      "Total params: 641\n",
      "Trainable params: 641\n",
      "Non-trainable params: 0\n",
      "_________________________________________________________________\n"
     ]
    }
   ],
   "source": [
    "model.compile(loss=LOSS,optimizer=OPTIMIZER)\n",
    "model.summary()"
   ]
  },
  {
   "cell_type": "code",
   "execution_count": 27,
   "id": "961fc47b",
   "metadata": {},
   "outputs": [],
   "source": [
    "scaler=StandardScaler()"
   ]
  },
  {
   "cell_type": "code",
   "execution_count": 28,
   "id": "5e0acc32",
   "metadata": {},
   "outputs": [],
   "source": [
    "x_train=scaler.fit_transform(x_train)\n",
    "x_test=scaler.transform(x_test)\n",
    "x_valid=scaler.transform(x_valid)"
   ]
  },
  {
   "cell_type": "code",
   "execution_count": 32,
   "id": "25a70b3d",
   "metadata": {},
   "outputs": [
    {
     "name": "stdout",
     "output_type": "stream",
     "text": [
      "Epoch 1/40\n",
      "363/363 [==============================] - 2s 6ms/step - loss: 0.3241 - val_loss: 0.3649\n",
      "Epoch 2/40\n",
      "363/363 [==============================] - 2s 5ms/step - loss: 0.3224 - val_loss: 0.3579\n",
      "Epoch 3/40\n",
      "363/363 [==============================] - 2s 6ms/step - loss: 0.3209 - val_loss: 0.3542\n",
      "Epoch 4/40\n",
      "363/363 [==============================] - 3s 9ms/step - loss: 0.3192 - val_loss: 0.3616\n",
      "Epoch 5/40\n",
      "363/363 [==============================] - 3s 9ms/step - loss: 0.3177 - val_loss: 0.3605\n",
      "Epoch 6/40\n",
      "363/363 [==============================] - 3s 8ms/step - loss: 0.3171 - val_loss: 0.3599\n",
      "Epoch 7/40\n",
      "363/363 [==============================] - 3s 9ms/step - loss: 0.3150 - val_loss: 0.3598\n",
      "Epoch 8/40\n",
      "363/363 [==============================] - 3s 7ms/step - loss: 0.3140 - val_loss: 0.3558\n",
      "Epoch 9/40\n",
      "363/363 [==============================] - 3s 8ms/step - loss: 0.3120 - val_loss: 0.3524\n",
      "Epoch 10/40\n",
      "363/363 [==============================] - 3s 7ms/step - loss: 0.3110 - val_loss: 0.3570\n",
      "Epoch 11/40\n",
      "363/363 [==============================] - 3s 7ms/step - loss: 0.3103 - val_loss: 0.3512\n",
      "Epoch 12/40\n",
      "363/363 [==============================] - 3s 7ms/step - loss: 0.3086 - val_loss: 0.3490\n",
      "Epoch 13/40\n",
      "363/363 [==============================] - 2s 6ms/step - loss: 0.3063 - val_loss: 0.3365\n",
      "Epoch 14/40\n",
      "363/363 [==============================] - 2s 5ms/step - loss: 0.3062 - val_loss: 0.3386\n",
      "Epoch 15/40\n",
      "363/363 [==============================] - 2s 6ms/step - loss: 0.3054 - val_loss: 0.3423\n",
      "Epoch 16/40\n",
      "363/363 [==============================] - 2s 7ms/step - loss: 0.3049 - val_loss: 0.3457\n",
      "Epoch 17/40\n",
      "363/363 [==============================] - 3s 9ms/step - loss: 0.3041 - val_loss: 0.3294\n",
      "Epoch 18/40\n",
      "363/363 [==============================] - 5s 14ms/step - loss: 0.3027 - val_loss: 0.3265\n",
      "Epoch 19/40\n",
      "363/363 [==============================] - 4s 11ms/step - loss: 0.3014 - val_loss: 0.3304\n",
      "Epoch 20/40\n",
      "363/363 [==============================] - 4s 11ms/step - loss: 0.3015 - val_loss: 0.3415\n",
      "Epoch 21/40\n",
      "363/363 [==============================] - 4s 10ms/step - loss: 0.2995 - val_loss: 0.3343\n",
      "Epoch 22/40\n",
      "363/363 [==============================] - 3s 8ms/step - loss: 0.2987 - val_loss: 0.3442\n",
      "Epoch 23/40\n",
      "363/363 [==============================] - 2s 6ms/step - loss: 0.2985 - val_loss: 0.3348\n",
      "Epoch 24/40\n",
      "363/363 [==============================] - 2s 6ms/step - loss: 0.2975 - val_loss: 0.3271\n",
      "Epoch 25/40\n",
      "363/363 [==============================] - 2s 6ms/step - loss: 0.2967 - val_loss: 0.3260\n",
      "Epoch 26/40\n",
      "363/363 [==============================] - 2s 6ms/step - loss: 0.2951 - val_loss: 0.3282\n",
      "Epoch 27/40\n",
      "363/363 [==============================] - 2s 6ms/step - loss: 0.2949 - val_loss: 0.3269\n",
      "Epoch 28/40\n",
      "363/363 [==============================] - 2s 7ms/step - loss: 0.2944 - val_loss: 0.3177\n",
      "Epoch 29/40\n",
      "363/363 [==============================] - 3s 9ms/step - loss: 0.2928 - val_loss: 0.3197\n",
      "Epoch 30/40\n",
      "363/363 [==============================] - 3s 9ms/step - loss: 0.2929 - val_loss: 0.3117\n",
      "Epoch 31/40\n",
      "363/363 [==============================] - 3s 9ms/step - loss: 0.2926 - val_loss: 0.3147\n",
      "Epoch 32/40\n",
      "363/363 [==============================] - 3s 8ms/step - loss: 0.2932 - val_loss: 0.3073\n",
      "Epoch 33/40\n",
      "363/363 [==============================] - 3s 8ms/step - loss: 0.2912 - val_loss: 0.3076\n",
      "Epoch 34/40\n",
      "363/363 [==============================] - 4s 11ms/step - loss: 0.2908 - val_loss: 0.3110\n",
      "Epoch 35/40\n",
      "363/363 [==============================] - 2s 7ms/step - loss: 0.2912 - val_loss: 0.3079\n",
      "Epoch 36/40\n",
      "363/363 [==============================] - 2s 6ms/step - loss: 0.2892 - val_loss: 0.3115\n",
      "Epoch 37/40\n",
      "363/363 [==============================] - 2s 5ms/step - loss: 0.2896 - val_loss: 0.3109\n",
      "Epoch 38/40\n",
      "363/363 [==============================] - 3s 8ms/step - loss: 0.2893 - val_loss: 0.3087\n",
      "Epoch 39/40\n",
      "363/363 [==============================] - 2s 7ms/step - loss: 0.2879 - val_loss: 0.3228\n",
      "Epoch 40/40\n",
      "363/363 [==============================] - 3s 8ms/step - loss: 0.2881 - val_loss: 0.3063\n"
     ]
    }
   ],
   "source": [
    "EPOCH=40\n",
    "history=model.fit(x_train,y_train,epochs=EPOCH,validation_data=(x_valid,y_valid))"
   ]
  },
  {
   "cell_type": "code",
   "execution_count": 33,
   "id": "f26f2c27",
   "metadata": {},
   "outputs": [
    {
     "data": {
      "text/html": [
       "<div>\n",
       "<style scoped>\n",
       "    .dataframe tbody tr th:only-of-type {\n",
       "        vertical-align: middle;\n",
       "    }\n",
       "\n",
       "    .dataframe tbody tr th {\n",
       "        vertical-align: top;\n",
       "    }\n",
       "\n",
       "    .dataframe thead th {\n",
       "        text-align: right;\n",
       "    }\n",
       "</style>\n",
       "<table border=\"1\" class=\"dataframe\">\n",
       "  <thead>\n",
       "    <tr style=\"text-align: right;\">\n",
       "      <th></th>\n",
       "      <th>loss</th>\n",
       "      <th>val_loss</th>\n",
       "    </tr>\n",
       "  </thead>\n",
       "  <tbody>\n",
       "    <tr>\n",
       "      <th>0</th>\n",
       "      <td>0.324127</td>\n",
       "      <td>0.364863</td>\n",
       "    </tr>\n",
       "    <tr>\n",
       "      <th>1</th>\n",
       "      <td>0.322374</td>\n",
       "      <td>0.357912</td>\n",
       "    </tr>\n",
       "    <tr>\n",
       "      <th>2</th>\n",
       "      <td>0.320920</td>\n",
       "      <td>0.354246</td>\n",
       "    </tr>\n",
       "    <tr>\n",
       "      <th>3</th>\n",
       "      <td>0.319189</td>\n",
       "      <td>0.361614</td>\n",
       "    </tr>\n",
       "    <tr>\n",
       "      <th>4</th>\n",
       "      <td>0.317688</td>\n",
       "      <td>0.360544</td>\n",
       "    </tr>\n",
       "    <tr>\n",
       "      <th>5</th>\n",
       "      <td>0.317062</td>\n",
       "      <td>0.359943</td>\n",
       "    </tr>\n",
       "    <tr>\n",
       "      <th>6</th>\n",
       "      <td>0.314962</td>\n",
       "      <td>0.359841</td>\n",
       "    </tr>\n",
       "    <tr>\n",
       "      <th>7</th>\n",
       "      <td>0.314011</td>\n",
       "      <td>0.355750</td>\n",
       "    </tr>\n",
       "    <tr>\n",
       "      <th>8</th>\n",
       "      <td>0.312036</td>\n",
       "      <td>0.352416</td>\n",
       "    </tr>\n",
       "    <tr>\n",
       "      <th>9</th>\n",
       "      <td>0.310957</td>\n",
       "      <td>0.356963</td>\n",
       "    </tr>\n",
       "    <tr>\n",
       "      <th>10</th>\n",
       "      <td>0.310254</td>\n",
       "      <td>0.351158</td>\n",
       "    </tr>\n",
       "    <tr>\n",
       "      <th>11</th>\n",
       "      <td>0.308637</td>\n",
       "      <td>0.349038</td>\n",
       "    </tr>\n",
       "    <tr>\n",
       "      <th>12</th>\n",
       "      <td>0.306314</td>\n",
       "      <td>0.336550</td>\n",
       "    </tr>\n",
       "    <tr>\n",
       "      <th>13</th>\n",
       "      <td>0.306241</td>\n",
       "      <td>0.338645</td>\n",
       "    </tr>\n",
       "    <tr>\n",
       "      <th>14</th>\n",
       "      <td>0.305442</td>\n",
       "      <td>0.342329</td>\n",
       "    </tr>\n",
       "    <tr>\n",
       "      <th>15</th>\n",
       "      <td>0.304894</td>\n",
       "      <td>0.345734</td>\n",
       "    </tr>\n",
       "    <tr>\n",
       "      <th>16</th>\n",
       "      <td>0.304148</td>\n",
       "      <td>0.329416</td>\n",
       "    </tr>\n",
       "    <tr>\n",
       "      <th>17</th>\n",
       "      <td>0.302733</td>\n",
       "      <td>0.326480</td>\n",
       "    </tr>\n",
       "    <tr>\n",
       "      <th>18</th>\n",
       "      <td>0.301439</td>\n",
       "      <td>0.330437</td>\n",
       "    </tr>\n",
       "    <tr>\n",
       "      <th>19</th>\n",
       "      <td>0.301462</td>\n",
       "      <td>0.341515</td>\n",
       "    </tr>\n",
       "    <tr>\n",
       "      <th>20</th>\n",
       "      <td>0.299491</td>\n",
       "      <td>0.334291</td>\n",
       "    </tr>\n",
       "    <tr>\n",
       "      <th>21</th>\n",
       "      <td>0.298705</td>\n",
       "      <td>0.344242</td>\n",
       "    </tr>\n",
       "    <tr>\n",
       "      <th>22</th>\n",
       "      <td>0.298478</td>\n",
       "      <td>0.334849</td>\n",
       "    </tr>\n",
       "    <tr>\n",
       "      <th>23</th>\n",
       "      <td>0.297536</td>\n",
       "      <td>0.327068</td>\n",
       "    </tr>\n",
       "    <tr>\n",
       "      <th>24</th>\n",
       "      <td>0.296683</td>\n",
       "      <td>0.325983</td>\n",
       "    </tr>\n",
       "    <tr>\n",
       "      <th>25</th>\n",
       "      <td>0.295136</td>\n",
       "      <td>0.328207</td>\n",
       "    </tr>\n",
       "    <tr>\n",
       "      <th>26</th>\n",
       "      <td>0.294884</td>\n",
       "      <td>0.326859</td>\n",
       "    </tr>\n",
       "    <tr>\n",
       "      <th>27</th>\n",
       "      <td>0.294446</td>\n",
       "      <td>0.317713</td>\n",
       "    </tr>\n",
       "    <tr>\n",
       "      <th>28</th>\n",
       "      <td>0.292794</td>\n",
       "      <td>0.319682</td>\n",
       "    </tr>\n",
       "    <tr>\n",
       "      <th>29</th>\n",
       "      <td>0.292865</td>\n",
       "      <td>0.311740</td>\n",
       "    </tr>\n",
       "    <tr>\n",
       "      <th>30</th>\n",
       "      <td>0.292556</td>\n",
       "      <td>0.314726</td>\n",
       "    </tr>\n",
       "    <tr>\n",
       "      <th>31</th>\n",
       "      <td>0.293193</td>\n",
       "      <td>0.307282</td>\n",
       "    </tr>\n",
       "    <tr>\n",
       "      <th>32</th>\n",
       "      <td>0.291186</td>\n",
       "      <td>0.307561</td>\n",
       "    </tr>\n",
       "    <tr>\n",
       "      <th>33</th>\n",
       "      <td>0.290797</td>\n",
       "      <td>0.310981</td>\n",
       "    </tr>\n",
       "    <tr>\n",
       "      <th>34</th>\n",
       "      <td>0.291236</td>\n",
       "      <td>0.307854</td>\n",
       "    </tr>\n",
       "    <tr>\n",
       "      <th>35</th>\n",
       "      <td>0.289214</td>\n",
       "      <td>0.311468</td>\n",
       "    </tr>\n",
       "    <tr>\n",
       "      <th>36</th>\n",
       "      <td>0.289627</td>\n",
       "      <td>0.310946</td>\n",
       "    </tr>\n",
       "    <tr>\n",
       "      <th>37</th>\n",
       "      <td>0.289349</td>\n",
       "      <td>0.308740</td>\n",
       "    </tr>\n",
       "    <tr>\n",
       "      <th>38</th>\n",
       "      <td>0.287880</td>\n",
       "      <td>0.322814</td>\n",
       "    </tr>\n",
       "    <tr>\n",
       "      <th>39</th>\n",
       "      <td>0.288112</td>\n",
       "      <td>0.306253</td>\n",
       "    </tr>\n",
       "  </tbody>\n",
       "</table>\n",
       "</div>"
      ],
      "text/plain": [
       "        loss  val_loss\n",
       "0   0.324127  0.364863\n",
       "1   0.322374  0.357912\n",
       "2   0.320920  0.354246\n",
       "3   0.319189  0.361614\n",
       "4   0.317688  0.360544\n",
       "5   0.317062  0.359943\n",
       "6   0.314962  0.359841\n",
       "7   0.314011  0.355750\n",
       "8   0.312036  0.352416\n",
       "9   0.310957  0.356963\n",
       "10  0.310254  0.351158\n",
       "11  0.308637  0.349038\n",
       "12  0.306314  0.336550\n",
       "13  0.306241  0.338645\n",
       "14  0.305442  0.342329\n",
       "15  0.304894  0.345734\n",
       "16  0.304148  0.329416\n",
       "17  0.302733  0.326480\n",
       "18  0.301439  0.330437\n",
       "19  0.301462  0.341515\n",
       "20  0.299491  0.334291\n",
       "21  0.298705  0.344242\n",
       "22  0.298478  0.334849\n",
       "23  0.297536  0.327068\n",
       "24  0.296683  0.325983\n",
       "25  0.295136  0.328207\n",
       "26  0.294884  0.326859\n",
       "27  0.294446  0.317713\n",
       "28  0.292794  0.319682\n",
       "29  0.292865  0.311740\n",
       "30  0.292556  0.314726\n",
       "31  0.293193  0.307282\n",
       "32  0.291186  0.307561\n",
       "33  0.290797  0.310981\n",
       "34  0.291236  0.307854\n",
       "35  0.289214  0.311468\n",
       "36  0.289627  0.310946\n",
       "37  0.289349  0.308740\n",
       "38  0.287880  0.322814\n",
       "39  0.288112  0.306253"
      ]
     },
     "execution_count": 33,
     "metadata": {},
     "output_type": "execute_result"
    }
   ],
   "source": [
    "pd.DataFrame(history.history)"
   ]
  },
  {
   "cell_type": "code",
   "execution_count": 34,
   "id": "f2ae085f",
   "metadata": {},
   "outputs": [
    {
     "data": {
      "text/plain": [
       "<AxesSubplot: >"
      ]
     },
     "execution_count": 34,
     "metadata": {},
     "output_type": "execute_result"
    },
    {
     "data": {
      "image/png": "[encoded data removed]",
      "text/plain": [
       "<Figure size 640x480 with 1 Axes>"
      ]
     },
     "metadata": {},
     "output_type": "display_data"
    }
   ],
   "source": [
    "pd.DataFrame(history.history).plot()"
   ]
  },
  {
   "cell_type": "code",
   "execution_count": 35,
   "id": "8860d659",
   "metadata": {},
   "outputs": [
    {
     "name": "stdout",
     "output_type": "stream",
     "text": [
      "162/162 [==============================] - 1s 3ms/step - loss: 0.2992\n"
     ]
    },
    {
     "data": {
      "text/plain": [
       "0.29915347695350647"
      ]
     },
     "execution_count": 35,
     "metadata": {},
     "output_type": "execute_result"
    }
   ],
   "source": [
    "model.evaluate(x_test,y_test)"
   ]
  },
  {
   "cell_type": "code",
   "execution_count": 36,
   "id": "13988b41",
   "metadata": {},
   "outputs": [
    {
     "data": {
      "text/plain": [
       "(5160, 8)"
      ]
     },
     "execution_count": 36,
     "metadata": {},
     "output_type": "execute_result"
    }
   ],
   "source": [
    "x_test.shape"
   ]
  },
  {
   "cell_type": "code",
   "execution_count": 37,
   "id": "fad6e5da",
   "metadata": {},
   "outputs": [],
   "source": [
    "new=x_test[0]"
   ]
  },
  {
   "cell_type": "code",
   "execution_count": 38,
   "id": "8b7e3c9a",
   "metadata": {},
   "outputs": [
    {
     "data": {
      "text/plain": [
       "array([-1.15780104, -0.28673138, -0.49550877, -0.16618097, -0.02946012,\n",
       "        0.38899735,  0.19374821,  0.2870474 ])"
      ]
     },
     "execution_count": 38,
     "metadata": {},
     "output_type": "execute_result"
    }
   ],
   "source": [
    "new"
   ]
  },
  {
   "cell_type": "code",
   "execution_count": 39,
   "id": "f1a55573",
   "metadata": {},
   "outputs": [
    {
     "data": {
      "text/plain": [
       "(8,)"
      ]
     },
     "execution_count": 39,
     "metadata": {},
     "output_type": "execute_result"
    }
   ],
   "source": [
    "new.shape"
   ]
  },
  {
   "cell_type": "code",
   "execution_count": 40,
   "id": "604c4374",
   "metadata": {},
   "outputs": [
    {
     "data": {
      "text/plain": [
       "array([-1.15780104, -0.28673138, -0.49550877, -0.16618097, -0.02946012,\n",
       "        0.38899735,  0.19374821,  0.2870474 ])"
      ]
     },
     "execution_count": 40,
     "metadata": {},
     "output_type": "execute_result"
    }
   ],
   "source": [
    "x_test[0]"
   ]
  },
  {
   "cell_type": "code",
   "execution_count": 41,
   "id": "9e48a6c4",
   "metadata": {},
   "outputs": [
    {
     "data": {
      "text/plain": [
       "(1, 8)"
      ]
     },
     "execution_count": 41,
     "metadata": {},
     "output_type": "execute_result"
    }
   ],
   "source": [
    "new.reshape((1,8)).shape"
   ]
  },
  {
   "cell_type": "code",
   "execution_count": 43,
   "id": "670805e6",
   "metadata": {},
   "outputs": [
    {
     "name": "stdout",
     "output_type": "stream",
     "text": [
      "1/1 [==============================] - 0s 105ms/step\n"
     ]
    },
    {
     "data": {
      "text/plain": [
       "array([[0.61430436]], dtype=float32)"
      ]
     },
     "execution_count": 43,
     "metadata": {},
     "output_type": "execute_result"
    }
   ],
   "source": [
    "model.predict(new.reshape((1,8)))"
   ]
  },
  {
   "cell_type": "markdown",
   "id": "8cfe8900",
   "metadata": {},
   "source": [
    "##  Model with Callbacks:"
   ]
  },
  {
   "cell_type": "code",
   "execution_count": 45,
   "id": "1f45ae97",
   "metadata": {},
   "outputs": [
    {
     "name": "stdout",
     "output_type": "stream",
     "text": [
      "Epoch 1/20\n",
      "363/363 [==============================] - 3s 6ms/step - loss: 0.2813 - val_loss: 0.3022\n",
      "Epoch 2/20\n",
      "363/363 [==============================] - 2s 5ms/step - loss: 0.2799 - val_loss: 0.3017\n",
      "Epoch 3/20\n",
      "363/363 [==============================] - 2s 5ms/step - loss: 0.2797 - val_loss: 0.3018\n",
      "Epoch 4/20\n",
      "363/363 [==============================] - 2s 5ms/step - loss: 0.2797 - val_loss: 0.3012\n",
      "Epoch 5/20\n",
      "363/363 [==============================] - 2s 6ms/step - loss: 0.2797 - val_loss: 0.3006\n",
      "Epoch 6/20\n",
      "363/363 [==============================] - 2s 5ms/step - loss: 0.2794 - val_loss: 0.3007\n",
      "Epoch 7/20\n",
      "363/363 [==============================] - 3s 8ms/step - loss: 0.2794 - val_loss: 0.3011\n",
      "Epoch 8/20\n",
      "363/363 [==============================] - 3s 9ms/step - loss: 0.2793 - val_loss: 0.3017\n",
      "Epoch 9/20\n",
      "363/363 [==============================] - 4s 10ms/step - loss: 0.2792 - val_loss: 0.3010\n",
      "Epoch 10/20\n",
      "363/363 [==============================] - 4s 10ms/step - loss: 0.2791 - val_loss: 0.3029\n"
     ]
    }
   ],
   "source": [
    "model_2=tf.keras.models.Sequential(LAYERS)\n",
    "LOSS='mse'\n",
    "OPTIMIZER=tf.keras.optimizers.SGD(learning_rate=0.001)\n",
    "\n",
    "model_2.compile(loss=LOSS,optimizer=OPTIMIZER)\n",
    "\n",
    "EPOCHS=20\n",
    "\n",
    "checkpoint_cb=tf.keras.callbacks.ModelCheckpoint('my_keras_model.h5',save_best_only=True)\n",
    "early_stopping_cb=tf.keras.callbacks.EarlyStopping(patience=5,restore_best_weights=True)\n",
    "tensorboard_cb=tf.keras.callbacks.TensorBoard(log_dir='logs')\n",
    "\n",
    "CALLBACKS=[checkpoint_cb,early_stopping_cb,tensorboard_cb]\n",
    "\n",
    "history=model_2.fit(x_train,y_train,epochs=EPOCHS,\n",
    "                    validation_data=(x_valid,y_valid),\n",
    "                   callbacks=CALLBACKS)"
   ]
  },
  {
   "cell_type": "code",
   "execution_count": 46,
   "id": "e4ee0770",
   "metadata": {},
   "outputs": [],
   "source": [
    "%load_ext tensorboard"
   ]
  },
  {
   "cell_type": "code",
   "execution_count": 47,
   "id": "a20c3616",
   "metadata": {},
   "outputs": [
    {
     "data": {
      "text/html": [
       "\n",
       "      <iframe id=\"tensorboard-frame-83f6abbb4da5773\" width=\"100%\" height=\"800\" frameborder=\"0\">\n",
       "      </iframe>\n",
       "      <script>\n",
       "        (function() {\n",
       "          const frame = document.getElementById(\"tensorboard-frame-83f6abbb4da5773\");\n",
       "          const url = new URL(\"/\", window.location);\n",
       "          const port = 6006;\n",
       "          if (port) {\n",
       "            url.port = port;\n",
       "          }\n",
       "          frame.src = url;\n",
       "        })();\n",
       "      </script>\n",
       "    "
      ],
      "text/plain": [
       "<IPython.core.display.HTML object>"
      ]
     },
     "metadata": {},
     "output_type": "display_data"
    }
   ],
   "source": [
    "%tensorboard --logdir='logs'"
   ]
  },
  {
   "cell_type": "code",
   "execution_count": null,
   "id": "023c726d",
   "metadata": {},
   "outputs": [],
   "source": []
  }
 ],
 "metadata": {
  "kernelspec": {
   "display_name": "Python 3 (ipykernel)",
   "language": "python",
   "name": "python3"
  },
  "language_info": {
   "codemirror_mode": {
    "name": "ipython",
    "version": 3
   },
   "file_extension": ".py",
   "mimetype": "text/x-python",
   "name": "python",
   "nbconvert_exporter": "python",
   "pygments_lexer": "ipython3",
   "version": "3.9.13"
  }
 },
 "nbformat": 4,
 "nbformat_minor": 5
}
